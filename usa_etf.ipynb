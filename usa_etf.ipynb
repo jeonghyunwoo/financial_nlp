from IPython.display import clear_output
import pandas as pd
import time
import FinanceDataReader as fdr

ues = []
for i in range(63):
    url = f"https://etfdb.com/etfs/country/us/#etfs&sort_name=assets_under_management&sort_order=desc&page={i+1}"
    try:
        ues.append(pd.read_html(url)[0])
    except:
        print(f"error at {i+1}")
    time.sleep(1)
    clear_output(wait=True)
    print(f"{i+1}/63, {(i+1)/63:.2%}")
ues = pd.concat(ues)

ues = ues.loc[~ues.Symbol.str.contains('Click')]
